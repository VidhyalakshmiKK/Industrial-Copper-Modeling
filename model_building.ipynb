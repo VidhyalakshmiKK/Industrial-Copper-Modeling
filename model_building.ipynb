{
 "cells": [
  {
   "cell_type": "code",
   "execution_count": 2,
   "metadata": {},
   "outputs": [],
   "source": [
    "import pandas as pd\n",
    "import numpy as np\n",
    "import matplotlib.pyplot as plt\n",
    "import seaborn as sns"
   ]
  },
  {
   "cell_type": "code",
   "execution_count": 22,
   "metadata": {},
   "outputs": [],
   "source": [
    "df=pd.read_csv(\"cleaned_data.csv\") # for regression \n",
    "df_c=df.query('status == 0 or status == 1') # for classification - considering only Won and Loss"
   ]
  },
  {
   "cell_type": "code",
   "execution_count": 23,
   "metadata": {},
   "outputs": [
    {
     "data": {
      "text/html": [
       "<div>\n",
       "<style scoped>\n",
       "    .dataframe tbody tr th:only-of-type {\n",
       "        vertical-align: middle;\n",
       "    }\n",
       "\n",
       "    .dataframe tbody tr th {\n",
       "        vertical-align: top;\n",
       "    }\n",
       "\n",
       "    .dataframe thead th {\n",
       "        text-align: right;\n",
       "    }\n",
       "</style>\n",
       "<table border=\"1\" class=\"dataframe\">\n",
       "  <thead>\n",
       "    <tr style=\"text-align: right;\">\n",
       "      <th></th>\n",
       "      <th>quantity tons</th>\n",
       "      <th>customer</th>\n",
       "      <th>country</th>\n",
       "      <th>application</th>\n",
       "      <th>thickness</th>\n",
       "      <th>width</th>\n",
       "      <th>product_ref</th>\n",
       "      <th>selling_price</th>\n",
       "      <th>item_date_day</th>\n",
       "      <th>item_date_month</th>\n",
       "      <th>item_date_year</th>\n",
       "      <th>delivery_date_day</th>\n",
       "      <th>delivery_date_month</th>\n",
       "      <th>delivery_date_year</th>\n",
       "      <th>item type</th>\n",
       "      <th>status</th>\n",
       "    </tr>\n",
       "  </thead>\n",
       "  <tbody>\n",
       "    <tr>\n",
       "      <th>0</th>\n",
       "      <td>3.991779</td>\n",
       "      <td>30156308.0</td>\n",
       "      <td>28.0</td>\n",
       "      <td>10.0</td>\n",
       "      <td>0.693147</td>\n",
       "      <td>1500.0</td>\n",
       "      <td>1670798778</td>\n",
       "      <td>6.749931</td>\n",
       "      <td>1.0</td>\n",
       "      <td>4.0</td>\n",
       "      <td>2021.0</td>\n",
       "      <td>1.0</td>\n",
       "      <td>4.0</td>\n",
       "      <td>2021.0</td>\n",
       "      <td>0.0</td>\n",
       "      <td>1.0</td>\n",
       "    </tr>\n",
       "    <tr>\n",
       "      <th>1</th>\n",
       "      <td>5.020288</td>\n",
       "      <td>30202938.0</td>\n",
       "      <td>25.0</td>\n",
       "      <td>41.0</td>\n",
       "      <td>-0.223144</td>\n",
       "      <td>1210.0</td>\n",
       "      <td>1668701718</td>\n",
       "      <td>6.953684</td>\n",
       "      <td>1.0</td>\n",
       "      <td>4.0</td>\n",
       "      <td>2021.0</td>\n",
       "      <td>1.0</td>\n",
       "      <td>4.0</td>\n",
       "      <td>2021.0</td>\n",
       "      <td>0.0</td>\n",
       "      <td>1.0</td>\n",
       "    </tr>\n",
       "    <tr>\n",
       "      <th>2</th>\n",
       "      <td>5.020288</td>\n",
       "      <td>30153963.0</td>\n",
       "      <td>30.0</td>\n",
       "      <td>28.0</td>\n",
       "      <td>-0.967584</td>\n",
       "      <td>952.0</td>\n",
       "      <td>628377</td>\n",
       "      <td>6.468211</td>\n",
       "      <td>1.0</td>\n",
       "      <td>4.0</td>\n",
       "      <td>2021.0</td>\n",
       "      <td>1.0</td>\n",
       "      <td>4.0</td>\n",
       "      <td>2021.0</td>\n",
       "      <td>1.0</td>\n",
       "      <td>1.0</td>\n",
       "    </tr>\n",
       "    <tr>\n",
       "      <th>3</th>\n",
       "      <td>5.020288</td>\n",
       "      <td>30349574.0</td>\n",
       "      <td>32.0</td>\n",
       "      <td>59.0</td>\n",
       "      <td>0.832909</td>\n",
       "      <td>1317.0</td>\n",
       "      <td>1668701718</td>\n",
       "      <td>6.643790</td>\n",
       "      <td>1.0</td>\n",
       "      <td>4.0</td>\n",
       "      <td>2021.0</td>\n",
       "      <td>1.0</td>\n",
       "      <td>4.0</td>\n",
       "      <td>2021.0</td>\n",
       "      <td>2.0</td>\n",
       "      <td>1.0</td>\n",
       "    </tr>\n",
       "    <tr>\n",
       "      <th>4</th>\n",
       "      <td>5.020288</td>\n",
       "      <td>30211560.0</td>\n",
       "      <td>28.0</td>\n",
       "      <td>10.0</td>\n",
       "      <td>1.386294</td>\n",
       "      <td>1980.0</td>\n",
       "      <td>640665</td>\n",
       "      <td>6.357842</td>\n",
       "      <td>1.0</td>\n",
       "      <td>4.0</td>\n",
       "      <td>2021.0</td>\n",
       "      <td>1.0</td>\n",
       "      <td>4.0</td>\n",
       "      <td>2021.0</td>\n",
       "      <td>0.0</td>\n",
       "      <td>1.0</td>\n",
       "    </tr>\n",
       "  </tbody>\n",
       "</table>\n",
       "</div>"
      ],
      "text/plain": [
       "   quantity tons    customer  country  application  thickness   width  \\\n",
       "0       3.991779  30156308.0     28.0         10.0   0.693147  1500.0   \n",
       "1       5.020288  30202938.0     25.0         41.0  -0.223144  1210.0   \n",
       "2       5.020288  30153963.0     30.0         28.0  -0.967584   952.0   \n",
       "3       5.020288  30349574.0     32.0         59.0   0.832909  1317.0   \n",
       "4       5.020288  30211560.0     28.0         10.0   1.386294  1980.0   \n",
       "\n",
       "   product_ref  selling_price  item_date_day  item_date_month  item_date_year  \\\n",
       "0   1670798778       6.749931            1.0              4.0          2021.0   \n",
       "1   1668701718       6.953684            1.0              4.0          2021.0   \n",
       "2       628377       6.468211            1.0              4.0          2021.0   \n",
       "3   1668701718       6.643790            1.0              4.0          2021.0   \n",
       "4       640665       6.357842            1.0              4.0          2021.0   \n",
       "\n",
       "   delivery_date_day  delivery_date_month  delivery_date_year  item type  \\\n",
       "0                1.0                  4.0              2021.0        0.0   \n",
       "1                1.0                  4.0              2021.0        0.0   \n",
       "2                1.0                  4.0              2021.0        1.0   \n",
       "3                1.0                  4.0              2021.0        2.0   \n",
       "4                1.0                  4.0              2021.0        0.0   \n",
       "\n",
       "   status  \n",
       "0     1.0  \n",
       "1     1.0  \n",
       "2     1.0  \n",
       "3     1.0  \n",
       "4     1.0  "
      ]
     },
     "execution_count": 23,
     "metadata": {},
     "output_type": "execute_result"
    }
   ],
   "source": [
    "df.head()"
   ]
  },
  {
   "cell_type": "code",
   "execution_count": 24,
   "metadata": {},
   "outputs": [
    {
     "data": {
      "text/plain": [
       "(181636, 16)"
      ]
     },
     "execution_count": 24,
     "metadata": {},
     "output_type": "execute_result"
    }
   ],
   "source": [
    "df.shape"
   ]
  },
  {
   "cell_type": "code",
   "execution_count": 6,
   "metadata": {},
   "outputs": [
    {
     "data": {
      "text/html": [
       "<div>\n",
       "<style scoped>\n",
       "    .dataframe tbody tr th:only-of-type {\n",
       "        vertical-align: middle;\n",
       "    }\n",
       "\n",
       "    .dataframe tbody tr th {\n",
       "        vertical-align: top;\n",
       "    }\n",
       "\n",
       "    .dataframe thead th {\n",
       "        text-align: right;\n",
       "    }\n",
       "</style>\n",
       "<table border=\"1\" class=\"dataframe\">\n",
       "  <thead>\n",
       "    <tr style=\"text-align: right;\">\n",
       "      <th></th>\n",
       "      <th>quantity tons</th>\n",
       "      <th>customer</th>\n",
       "      <th>country</th>\n",
       "      <th>application</th>\n",
       "      <th>thickness</th>\n",
       "      <th>width</th>\n",
       "      <th>product_ref</th>\n",
       "      <th>selling_price</th>\n",
       "      <th>item_date_day</th>\n",
       "      <th>item_date_month</th>\n",
       "      <th>item_date_year</th>\n",
       "      <th>delivery_date_day</th>\n",
       "      <th>delivery_date_month</th>\n",
       "      <th>delivery_date_year</th>\n",
       "      <th>item type</th>\n",
       "      <th>status</th>\n",
       "    </tr>\n",
       "  </thead>\n",
       "  <tbody>\n",
       "    <tr>\n",
       "      <th>0</th>\n",
       "      <td>3.991779</td>\n",
       "      <td>30156308.0</td>\n",
       "      <td>28.0</td>\n",
       "      <td>10.0</td>\n",
       "      <td>0.693147</td>\n",
       "      <td>1500.0</td>\n",
       "      <td>1670798778</td>\n",
       "      <td>6.749931</td>\n",
       "      <td>1.0</td>\n",
       "      <td>4.0</td>\n",
       "      <td>2021.0</td>\n",
       "      <td>1.0</td>\n",
       "      <td>4.0</td>\n",
       "      <td>2021.0</td>\n",
       "      <td>0.0</td>\n",
       "      <td>1.0</td>\n",
       "    </tr>\n",
       "    <tr>\n",
       "      <th>1</th>\n",
       "      <td>6.643822</td>\n",
       "      <td>30202938.0</td>\n",
       "      <td>25.0</td>\n",
       "      <td>41.0</td>\n",
       "      <td>-0.223144</td>\n",
       "      <td>1210.0</td>\n",
       "      <td>1668701718</td>\n",
       "      <td>6.953684</td>\n",
       "      <td>1.0</td>\n",
       "      <td>4.0</td>\n",
       "      <td>2021.0</td>\n",
       "      <td>1.0</td>\n",
       "      <td>4.0</td>\n",
       "      <td>2021.0</td>\n",
       "      <td>0.0</td>\n",
       "      <td>1.0</td>\n",
       "    </tr>\n",
       "    <tr>\n",
       "      <th>2</th>\n",
       "      <td>5.956169</td>\n",
       "      <td>30153963.0</td>\n",
       "      <td>30.0</td>\n",
       "      <td>28.0</td>\n",
       "      <td>-0.967584</td>\n",
       "      <td>952.0</td>\n",
       "      <td>628377</td>\n",
       "      <td>6.468211</td>\n",
       "      <td>1.0</td>\n",
       "      <td>4.0</td>\n",
       "      <td>2021.0</td>\n",
       "      <td>1.0</td>\n",
       "      <td>4.0</td>\n",
       "      <td>2021.0</td>\n",
       "      <td>1.0</td>\n",
       "      <td>1.0</td>\n",
       "    </tr>\n",
       "    <tr>\n",
       "      <th>3</th>\n",
       "      <td>5.310301</td>\n",
       "      <td>30349574.0</td>\n",
       "      <td>32.0</td>\n",
       "      <td>59.0</td>\n",
       "      <td>0.832909</td>\n",
       "      <td>1317.0</td>\n",
       "      <td>1668701718</td>\n",
       "      <td>6.643790</td>\n",
       "      <td>1.0</td>\n",
       "      <td>4.0</td>\n",
       "      <td>2021.0</td>\n",
       "      <td>1.0</td>\n",
       "      <td>4.0</td>\n",
       "      <td>2021.0</td>\n",
       "      <td>2.0</td>\n",
       "      <td>1.0</td>\n",
       "    </tr>\n",
       "    <tr>\n",
       "      <th>4</th>\n",
       "      <td>6.666354</td>\n",
       "      <td>30211560.0</td>\n",
       "      <td>28.0</td>\n",
       "      <td>10.0</td>\n",
       "      <td>1.386294</td>\n",
       "      <td>1980.0</td>\n",
       "      <td>640665</td>\n",
       "      <td>6.357842</td>\n",
       "      <td>1.0</td>\n",
       "      <td>4.0</td>\n",
       "      <td>2021.0</td>\n",
       "      <td>1.0</td>\n",
       "      <td>4.0</td>\n",
       "      <td>2021.0</td>\n",
       "      <td>0.0</td>\n",
       "      <td>1.0</td>\n",
       "    </tr>\n",
       "  </tbody>\n",
       "</table>\n",
       "</div>"
      ],
      "text/plain": [
       "   quantity tons    customer  country  application  thickness   width  \\\n",
       "0       3.991779  30156308.0     28.0         10.0   0.693147  1500.0   \n",
       "1       6.643822  30202938.0     25.0         41.0  -0.223144  1210.0   \n",
       "2       5.956169  30153963.0     30.0         28.0  -0.967584   952.0   \n",
       "3       5.310301  30349574.0     32.0         59.0   0.832909  1317.0   \n",
       "4       6.666354  30211560.0     28.0         10.0   1.386294  1980.0   \n",
       "\n",
       "   product_ref  selling_price  item_date_day  item_date_month  item_date_year  \\\n",
       "0   1670798778       6.749931            1.0              4.0          2021.0   \n",
       "1   1668701718       6.953684            1.0              4.0          2021.0   \n",
       "2       628377       6.468211            1.0              4.0          2021.0   \n",
       "3   1668701718       6.643790            1.0              4.0          2021.0   \n",
       "4       640665       6.357842            1.0              4.0          2021.0   \n",
       "\n",
       "   delivery_date_day  delivery_date_month  delivery_date_year  item type  \\\n",
       "0                1.0                  4.0              2021.0        0.0   \n",
       "1                1.0                  4.0              2021.0        0.0   \n",
       "2                1.0                  4.0              2021.0        1.0   \n",
       "3                1.0                  4.0              2021.0        2.0   \n",
       "4                1.0                  4.0              2021.0        0.0   \n",
       "\n",
       "   status  \n",
       "0     1.0  \n",
       "1     1.0  \n",
       "2     1.0  \n",
       "3     1.0  \n",
       "4     1.0  "
      ]
     },
     "execution_count": 6,
     "metadata": {},
     "output_type": "execute_result"
    }
   ],
   "source": [
    "df_c.head()"
   ]
  },
  {
   "cell_type": "code",
   "execution_count": 7,
   "metadata": {},
   "outputs": [
    {
     "data": {
      "text/plain": [
       "(150438, 16)"
      ]
     },
     "execution_count": 7,
     "metadata": {},
     "output_type": "execute_result"
    }
   ],
   "source": [
    "df_c.shape"
   ]
  },
  {
   "cell_type": "markdown",
   "metadata": {},
   "source": [
    "## Model building"
   ]
  },
  {
   "cell_type": "markdown",
   "metadata": {},
   "source": [
    "#### Regression model - to predict selling price"
   ]
  },
  {
   "cell_type": "code",
   "execution_count": 25,
   "metadata": {},
   "outputs": [],
   "source": [
    "from sklearn.model_selection import train_test_split , GridSearchCV\n",
    "from sklearn.linear_model import LinearRegression\n",
    "from sklearn.tree import DecisionTreeRegressor\n",
    "from sklearn.ensemble import RandomForestRegressor\n",
    "from sklearn.ensemble import GradientBoostingRegressor\n",
    "from sklearn.tree import ExtraTreeRegressor\n",
    "from xgboost import XGBRegressor\n",
    "from sklearn.metrics import mean_squared_error , r2_score\n",
    "import pickle"
   ]
  },
  {
   "cell_type": "code",
   "execution_count": 26,
   "metadata": {},
   "outputs": [],
   "source": [
    "# To split the train and test data\n",
    "\n",
    "X=df.drop(\"selling_price\",axis=1)\n",
    "y=df['selling_price']\n",
    "X_train,X_test,y_train,y_test=train_test_split(X,y,test_size=0.2,random_state=42)"
   ]
  },
  {
   "cell_type": "code",
   "execution_count": 27,
   "metadata": {},
   "outputs": [
    {
     "name": "stdout",
     "output_type": "stream",
     "text": [
      "-------------------------------\n",
      "LinearRegression :\n",
      "mean_squared_error : 0.047071009286811114\n",
      "r2_score : 0.41363200879215833\n",
      "-------------------------------\n",
      "DecisionTreeRegressor :\n",
      "mean_squared_error : 0.00533522837865582\n",
      "r2_score : 0.9335385581395631\n",
      "-------------------------------\n",
      "RandomForestRegressor :\n",
      "mean_squared_error : 0.002996626302013862\n",
      "r2_score : 0.9626707442280236\n",
      "-------------------------------\n",
      "GradientBoostingRegressor :\n",
      "mean_squared_error : 0.00811453184075381\n",
      "r2_score : 0.8989165134305276\n",
      "-------------------------------\n",
      "ExtraTreeRegressor :\n",
      "mean_squared_error : 0.009438155237324317\n",
      "r2_score : 0.8824280122506685\n",
      "-------------------------------\n",
      "XGBRegressor :\n",
      "mean_squared_error : 0.0037756148797920496\n",
      "r2_score : 0.9529668102260468\n"
     ]
    }
   ],
   "source": [
    "# choosing the best algorithm\n",
    "\n",
    "models=[LinearRegression,DecisionTreeRegressor,RandomForestRegressor,GradientBoostingRegressor,ExtraTreeRegressor,XGBRegressor]\n",
    "\n",
    "for i in models :\n",
    "    model=i().fit(X_train,y_train)\n",
    "    y_pred=model.predict(X_test)\n",
    "    mse=mean_squared_error(y_test,y_pred)\n",
    "    r2=r2_score(y_test,y_pred)\n",
    "\n",
    "    print(\"-------------------------------\")\n",
    "    print(i.__name__,\":\")\n",
    "    print(\"mean_squared_error :\",mse)\n",
    "    print(\"r2_score :\",r2)\n"
   ]
  },
  {
   "cell_type": "markdown",
   "metadata": {},
   "source": [
    "Considering the MSE and r2 score - **Random Forest** performs well . Proceeding with Random Forest for regression"
   ]
  },
  {
   "cell_type": "markdown",
   "metadata": {},
   "source": [
    "#### Hyper parameter tuning using GridSeachCV"
   ]
  },
  {
   "cell_type": "code",
   "execution_count": null,
   "metadata": {},
   "outputs": [],
   "source": [
    "param_grid_r = {\n",
    "    'max_depth': [None, 2, 5, 10, 20],\n",
    "    'min_samples_split': [2, 5, 10],\n",
    "    'min_samples_leaf': [1, 2, 4],\n",
    "    'max_features': [None, 'sqrt', 'log2']\n",
    "}\n",
    "\n",
    "grid_search_r=GridSearchCV(estimator=RandomForestRegressor() , param_grid=param_grid_r, cv=5, n_jobs=-1,verbose=2)\n",
    "grid_search_r.fit(X_train,y_train)\n",
    "print('Best Parameters:',grid_search_r.best_params_)\n",
    "print(\"-------------------------------\")\n",
    "print('Best score:',grid_search_r.best_score_)"
   ]
  },
  {
   "cell_type": "code",
   "execution_count": 28,
   "metadata": {},
   "outputs": [
    {
     "name": "stdout",
     "output_type": "stream",
     "text": [
      "mean_squared_error : 0.003005465298520558\n",
      "r2_score : 0.9625606360169515\n"
     ]
    }
   ],
   "source": [
    "# predicting the selling price with hypertuning parameters and calculating the accuracy using metrics\n",
    "\n",
    "model=RandomForestRegressor(max_depth= 20, max_features= None, min_samples_leaf= 1, min_samples_split= 2)\n",
    "model.fit(X_train,y_train)\n",
    "y_pred=model.predict(X_test)\n",
    "mse=mean_squared_error(y_test,y_pred)\n",
    "r2=r2_score(y_test,y_pred)\n",
    "\n",
    "print(\"mean_squared_error :\",mse)\n",
    "print(\"r2_score :\",r2)"
   ]
  },
  {
   "cell_type": "code",
   "execution_count": 29,
   "metadata": {},
   "outputs": [],
   "source": [
    "# save the regression model by using pickle\n",
    "\n",
    "with open('regression_model.pkl', 'wb') as f:\n",
    "    pickle.dump(model, f)"
   ]
  },
  {
   "cell_type": "code",
   "execution_count": 30,
   "metadata": {},
   "outputs": [],
   "source": [
    "# load the pickle model to predict selling price\n",
    "\n",
    "with open('regression_model.pkl', 'rb') as f:\n",
    "    model = pickle.load(f)\n"
   ]
  },
  {
   "cell_type": "code",
   "execution_count": 31,
   "metadata": {},
   "outputs": [
    {
     "name": "stderr",
     "output_type": "stream",
     "text": [
      "c:\\Users\\vidhya\\AppData\\Local\\Programs\\Python\\Python312\\Lib\\site-packages\\sklearn\\base.py:493: UserWarning: X does not have valid feature names, but RandomForestRegressor was fitted with feature names\n",
      "  warnings.warn(\n"
     ]
    },
    {
     "data": {
      "text/plain": [
       "901.0470759927149"
      ]
     },
     "execution_count": 31,
     "metadata": {},
     "output_type": "execute_result"
    }
   ],
   "source": [
    "# testing the model for accuracy with a random record from the cleaned dataframe before transforming\n",
    "\n",
    "sp = [np.log(202.411065),30349574.0,32.0,59.0,np.log(2.3),np.log(1317.0),1668701718,1.0,4.0,2021.0,1.0,4.0,2021.0,2.0,1.0]\n",
    "y_pred = model.predict([sp])\n",
    "np.exp(y_pred[0])"
   ]
  },
  {
   "cell_type": "markdown",
   "metadata": {},
   "source": [
    "#### Classification model - to predict status"
   ]
  },
  {
   "cell_type": "code",
   "execution_count": 32,
   "metadata": {},
   "outputs": [],
   "source": [
    "from sklearn.model_selection import train_test_split , GridSearchCV\n",
    "from sklearn.linear_model import LogisticRegression\n",
    "from sklearn.tree import DecisionTreeClassifier\n",
    "from sklearn.ensemble import RandomForestClassifier\n",
    "from sklearn.ensemble import GradientBoostingClassifier\n",
    "from sklearn.tree import ExtraTreeClassifier\n",
    "from xgboost import XGBClassifier\n",
    "from imblearn.combine import SMOTETomek\n",
    "from imblearn.over_sampling import SMOTE\n",
    "from sklearn.preprocessing import StandardScaler,MinMaxScaler\n",
    "from sklearn.metrics import accuracy_score , f1_score , roc_auc_score , confusion_matrix , classification_report,ConfusionMatrixDisplay"
   ]
  },
  {
   "cell_type": "code",
   "execution_count": 33,
   "metadata": {},
   "outputs": [
    {
     "data": {
      "text/plain": [
       "status\n",
       "1.0    116007\n",
       "0.0     34431\n",
       "Name: count, dtype: int64"
      ]
     },
     "execution_count": 33,
     "metadata": {},
     "output_type": "execute_result"
    }
   ],
   "source": [
    "df_c['status'].value_counts()"
   ]
  },
  {
   "cell_type": "markdown",
   "metadata": {},
   "source": [
    "As we can see that there is an imbalance in the target variable and hence we should perform oversampling ."
   ]
  },
  {
   "cell_type": "code",
   "execution_count": 34,
   "metadata": {},
   "outputs": [],
   "source": [
    "# To split the train and test data\n",
    "\n",
    "X=df_c.drop(\"status\",axis=1)\n",
    "y=df_c['status']\n",
    "X_train,X_test,y_train,y_test=train_test_split(X,y,test_size=0.3,random_state=42)"
   ]
  },
  {
   "cell_type": "code",
   "execution_count": 35,
   "metadata": {},
   "outputs": [],
   "source": [
    "# Using SMOTETomek\n",
    "\n",
    "smoteTomek = SMOTETomek(random_state=42)\n",
    "X_resampled, y_resampled = smoteTomek.fit_resample(X_train, y_train)"
   ]
  },
  {
   "cell_type": "code",
   "execution_count": 36,
   "metadata": {},
   "outputs": [
    {
     "name": "stdout",
     "output_type": "stream",
     "text": [
      "-------------------------------\n",
      "LogisticRegression :\n",
      "accuracy_score : 0.6515775946113622\n",
      "f1_score: 0.7661953402619802\n",
      "roc_auc_score : 0.5456295969231362\n",
      "-------------------------------\n",
      "DecisionTreeClassifier :\n",
      "accuracy_score : 0.9411504032615439\n",
      "f1_score: 0.9614860357878252\n",
      "roc_auc_score : 0.9238313003456529\n",
      "-------------------------------\n",
      "RandomForestClassifier :\n",
      "accuracy_score : 0.9633741026322786\n",
      "f1_score: 0.9760715681591176\n",
      "roc_auc_score : 0.9530548704313796\n",
      "-------------------------------\n",
      "GradientBoostingClassifier :\n",
      "accuracy_score : 0.7852078347957103\n",
      "f1_score: 0.8509395085647508\n",
      "roc_auc_score : 0.7704164664038722\n",
      "-------------------------------\n",
      "ExtraTreeClassifier :\n",
      "accuracy_score : 0.916777452805105\n",
      "f1_score: 0.9453402409919087\n",
      "roc_auc_score : 0.89370995677771\n",
      "-------------------------------\n",
      "XGBClassifier :\n",
      "accuracy_score : 0.9177745280510502\n",
      "f1_score: 0.9455585711142082\n",
      "roc_auc_score : 0.9043106238139795\n"
     ]
    }
   ],
   "source": [
    "# choosing the best algorithm - using SMOTETomek\n",
    "\n",
    "models=[LogisticRegression,DecisionTreeClassifier,RandomForestClassifier,GradientBoostingClassifier,ExtraTreeClassifier,XGBClassifier]\n",
    "\n",
    "for i in models :\n",
    "    model=i().fit(X_resampled,y_resampled)\n",
    "    y_pred=model.predict(X_test)\n",
    "    accuracy=accuracy_score(y_test,y_pred)\n",
    "    f1=f1_score(y_test,y_pred)\n",
    "    roc_auc=roc_auc_score(y_test,y_pred)\n",
    "\n",
    "    print(\"-------------------------------\")\n",
    "    print(i.__name__,\":\")\n",
    "    print(\"accuracy_score :\",accuracy)\n",
    "    print(\"f1_score:\",f1)\n",
    "    print(\"roc_auc_score :\",roc_auc)\n"
   ]
  },
  {
   "cell_type": "markdown",
   "metadata": {},
   "source": [
    "Considering the accuracy and f1 score - **Random Forest** performs well . Proceeding with Random Forest for classification"
   ]
  },
  {
   "cell_type": "markdown",
   "metadata": {},
   "source": [
    "#### Hyper parameter tuning using GridSeachCV"
   ]
  },
  {
   "cell_type": "code",
   "execution_count": null,
   "metadata": {},
   "outputs": [],
   "source": [
    "param_grid_r = {'n_estimators': [50, 100, 150],\n",
    "                'max_depth': [None, 10, 20],\n",
    "                'min_samples_split': [2, 5, 10],\n",
    "                'min_samples_leaf': [1, 2, 4],\n",
    "                'max_features': ['sqrt', 'log2']}\n",
    "\n",
    "\n",
    "grid_search_r=GridSearchCV(estimator=RandomForestClassifier() , param_grid=param_grid_r, cv=5, n_jobs=-2)\n",
    "grid_search_r.fit(X_resampled,y_resampled)\n",
    "print('Best Parameters:',grid_search_r.best_params_)\n",
    "print(\"-------------------------------\")\n",
    "print('Best score:',grid_search_r.best_score_)"
   ]
  },
  {
   "cell_type": "code",
   "execution_count": 37,
   "metadata": {},
   "outputs": [
    {
     "name": "stdout",
     "output_type": "stream",
     "text": [
      "-------------------------------\n",
      "Random Forest Classifier:\n",
      "accuracy_score : 0.963219002038465\n",
      "f1_score: 0.9759510908932866\n",
      "roc_auc_score : 0.9537554191612039\n"
     ]
    }
   ],
   "source": [
    "# predicting the status with hypertuning parameters and calculating the accuracy using metrics\n",
    "\n",
    "model=RandomForestClassifier(n_estimators=100,max_depth=30, max_features= 'sqrt', min_samples_leaf=1, min_samples_split= 2)\n",
    "model.fit(X_resampled,y_resampled)\n",
    "y_pred=model.predict(X_test)\n",
    "accuracy=accuracy_score(y_test,y_pred)\n",
    "f1=f1_score(y_test,y_pred)\n",
    "roc_auc=roc_auc_score(y_test,y_pred)\n",
    "print(\"-------------------------------\")\n",
    "print(\"Random Forest Classifier:\")\n",
    "print(\"accuracy_score :\",accuracy)\n",
    "print(\"f1_score:\",f1)\n",
    "print(\"roc_auc_score :\",roc_auc)"
   ]
  },
  {
   "cell_type": "code",
   "execution_count": 38,
   "metadata": {},
   "outputs": [],
   "source": [
    "# saving as a pickle file\n",
    "with open(\"classification_model.pkl\",'wb') as f:\n",
    "    pickle.dump(model,f)"
   ]
  },
  {
   "cell_type": "code",
   "execution_count": 39,
   "metadata": {},
   "outputs": [],
   "source": [
    "# load the pickle model to predict the status\n",
    "\n",
    "with open(\"classification_model.pkl\",'rb') as f:\n",
    "    model=pickle.load(f)"
   ]
  },
  {
   "cell_type": "code",
   "execution_count": 40,
   "metadata": {},
   "outputs": [
    {
     "name": "stderr",
     "output_type": "stream",
     "text": [
      "c:\\Users\\vidhya\\AppData\\Local\\Programs\\Python\\Python312\\Lib\\site-packages\\sklearn\\base.py:493: UserWarning: X does not have valid feature names, but RandomForestClassifier was fitted with feature names\n",
      "  warnings.warn(\n"
     ]
    },
    {
     "data": {
      "text/plain": [
       "1.0"
      ]
     },
     "execution_count": 40,
     "metadata": {},
     "output_type": "execute_result"
    }
   ],
   "source": [
    "sp=[np.log(768.024839),30202938.0,25.0,41.0,np.log(0.80),np.log(1210.0),1668701718,1047.00,1.0,4.0,2021.0,1.0,4.0,2021.0,0.0]\n",
    "\n",
    "y_pred=model.predict([sp])\n",
    "y_pred[0]"
   ]
  }
 ],
 "metadata": {
  "kernelspec": {
   "display_name": "Python 3",
   "language": "python",
   "name": "python3"
  },
  "language_info": {
   "codemirror_mode": {
    "name": "ipython",
    "version": 3
   },
   "file_extension": ".py",
   "mimetype": "text/x-python",
   "name": "python",
   "nbconvert_exporter": "python",
   "pygments_lexer": "ipython3",
   "version": "3.12.1"
  }
 },
 "nbformat": 4,
 "nbformat_minor": 2
}
